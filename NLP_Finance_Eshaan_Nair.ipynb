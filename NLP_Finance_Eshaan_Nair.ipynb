{
  "nbformat": 4,
  "nbformat_minor": 0,
  "metadata": {
    "colab": {
      "name": "NLP Finance Eshaan Nair",
      "provenance": [],
      "collapsed_sections": [],
      "include_colab_link": true
    },
    "kernelspec": {
      "name": "python3",
      "display_name": "Python 3"
    }
  },
  "cells": [
    {
      "cell_type": "markdown",
      "metadata": {
        "id": "view-in-github",
        "colab_type": "text"
      },
      "source": [
        "<a href=\"https://colab.research.google.com/github/eshaann/Sentiment-Analysis-NLP-Finance/blob/main/NLP_Finance_Eshaan_Nair.ipynb\" target=\"_parent\"><img src=\"https://colab.research.google.com/assets/colab-badge.svg\" alt=\"Open In Colab\"/></a>"
      ]
    },
    {
      "cell_type": "code",
      "metadata": {
        "id": "8fFITDGntdY3",
        "colab": {
          "base_uri": "https://localhost:8080/"
        },
        "outputId": "626f5558-1521-4a76-edeb-6ab0a1966a81"
      },
      "source": [
        "%load_ext autoreload\n",
        "%autoreload 2\n",
        "from collections import Counter\n",
        "from importlib.machinery import SourceFileLoader\n",
        "import numpy as np\n",
        "from os.path import join\n",
        "import warnings\n",
        "warnings.filterwarnings(\"ignore\")\n",
        "from torchtext.vocab import GloVe\n",
        "import nltk\n",
        "nltk.download('punkt')\n",
        "import seaborn as sns\n",
        "import matplotlib\n",
        "\n",
        "from nltk.tokenize import sent_tokenize, word_tokenize\n",
        "from nltk.stem.wordnet import WordNetLemmatizer\n",
        "from nltk.stem.porter import *\n",
        "from nltk.corpus import stopwords\n",
        "nltk.download('stopwords' ,quiet=True)\n",
        "from sklearn.feature_extraction.text import CountVectorizer\n",
        "from sklearn.linear_model import LogisticRegression\n",
        "from sklearn.model_selection import train_test_split\n",
        "import pandas as pd\n",
        "from sklearn.metrics import multilabel_confusion_matrix\n",
        "from sklearn import metrics\n",
        "import gdown\n",
        "import string\n",
        "import numpy\n",
        "import matplotlib.pyplot as plt\n",
        "\n",
        "import numpy as np \n",
        "import pandas as pd\n",
        "import matplotlib.pyplot as plt\n",
        "import seaborn as sns\n",
        "from keras.preprocessing.text import Tokenizer\n",
        "from keras.preprocessing.sequence import pad_sequences\n",
        "from keras.models import Sequential\n",
        "from keras.layers import Dense, Embedding, LSTM, SpatialDropout1D\n",
        "from sklearn.model_selection import train_test_split\n",
        "from keras.utils.np_utils import to_categorical\n",
        "from keras.callbacks import EarlyStopping\n",
        "from keras.layers import Dropout\n",
        "import re\n",
        "from nltk.corpus import stopwords\n",
        "from nltk import word_tokenize\n",
        "STOPWORDS = set(stopwords.words('english'))\n",
        "from bs4 import BeautifulSoup\n",
        "\n",
        "from keras.preprocessing.text import Tokenizer\n",
        "from keras.preprocessing.sequence import pad_sequences\n",
        "import string\n",
        "\n",
        "\n",
        "def get_finance_train():\n",
        "  df_train = pd.read_csv(\"finance_train.csv\")\n",
        "  return df_train\n",
        "def get_finance_test():\n",
        "  df_test = pd.read_csv(\"finance_test.csv\")\n",
        "  return df_test\n",
        "\n",
        "PUNCTUATION = '!#$%&()*,-./:;<=>?@^_`{|}~'\n",
        "\n",
        "REPLACE_BY_SPACE_RE = re.compile('[/(){}\\[\\]\\|@,;]')\n",
        "BAD_SYMBOLS_RE = re.compile('[^0-9a-z #+_]')\n",
        "STOPWORDS = set(stopwords.words('english'))\n",
        "\n",
        "def clean_text(text):\n",
        "    \"\"\"\n",
        "        text: a string\n",
        "        return: modified initial string\n",
        "    \"\"\"\n",
        "    text = text.lower() # lowercase text\n",
        "    text = REPLACE_BY_SPACE_RE.sub(' ', text) # replace REPLACE_BY_SPACE_RE symbols by space in text. substitute the matched string in REPLACE_BY_SPACE_RE with space.\n",
        "    text = BAD_SYMBOLS_RE.sub('', text) # remove symbols which are in BAD_SYMBOLS_RE from text. substitute the matched string in BAD_SYMBOLS_RE with nothing. \n",
        "    text = text.replace('x', '')\n",
        "#    text = re.sub(r'\\W+', '', text)\n",
        "    text = ' '.join(word for word in text.split() if word not in STOPWORDS) # remove stopwords from text\n",
        "    return text\n",
        "\n",
        "def pad_sequences_train(df_train, df_test):\n",
        "  tokenizer = Tokenizer(num_words=MAX_NB_WORDS, filters='!\"#$%&()*+,-./:;<=>?@[\\]^_`{|}~', lower=True)\n",
        "  tokenizer.fit_on_texts(df_train['Sentence'].values)\n",
        "  word_index = tokenizer.word_index\n",
        "  X = tokenizer.texts_to_sequences(df_train['Sentence'].values)\n",
        "  X_train = pad_sequences(X, maxlen=MAX_SEQUENCE_LENGTH)\n",
        "  return X_train\n",
        "\n",
        "def pad_sequences_test(df_train, df_test):\n",
        "  tokenizer = Tokenizer(num_words=MAX_NB_WORDS, filters='!\"#$%&()*+,-./:;<=>?@[\\]^_`{|}~', lower=True)\n",
        "  tokenizer.fit_on_texts(df_train['Sentence'].values)\n",
        "  word_index = tokenizer.word_index\n",
        "  X = tokenizer.texts_to_sequences(df_test['Sentence'].values)\n",
        "  X_test = pad_sequences(X, maxlen=MAX_SEQUENCE_LENGTH)\n",
        "  return X_test\n",
        "\n",
        "def run_model(X_train, y_train, X_test, y_test, epochs=5, max_sequence_length=256, max_nb_words=1000, embedding_dim=300):\n",
        "  if any(x is None for x in [X_train, y_train, X_test, y_test, epochs, max_sequence_length, max_nb_words, embedding_dim]):\n",
        "    print('Replace the None values above with your new values before calling the run_model() function.')\n",
        "    return None, None, None\n",
        "  model = Sequential()\n",
        "  model.add(Embedding(max_nb_words+1, embedding_dim, mask_zero=True, input_length=max_sequence_length))\n",
        "  model.add(SpatialDropout1D(0.2))\n",
        "  model.add(LSTM(100, dropout=0.2, recurrent_dropout=0.2))\n",
        "  model.add(Dense(n_labels, activation='softmax'))\n",
        "  model.compile(loss='categorical_crossentropy', optimizer='adam', metrics=['accuracy'])\n",
        "  print(model.summary())\n",
        "  history = model.fit(X_train, \n",
        "                    y_train, \n",
        "                    epochs=epochs, \n",
        "                    batch_size=batch_size,\n",
        "                    validation_split=0.1,\n",
        "                    callbacks=[EarlyStopping(monitor='val_loss', patience=3, min_delta=0.0001)])\n",
        "  test_loss, test_accuracy = model.evaluate(X_test, y_test)\n",
        "  return model, history, test_accuracy\n",
        "\n",
        "\n",
        "EMBEDDING_DIM = 300\n",
        "\n",
        "\n",
        "nltk.download('wordnet')\n",
        "\n",
        "# gdown.download('https://drive.google.com/uc?id=1q4U2gVY9tWEPdT6W-pdQpKmo152QqWLE', 'finance_train.csv', True)\n",
        "# gdown.download('https://drive.google.com/uc?id=1nIBqAsItwVEGVayYTgvybz7HeK0asom0', 'finance_test.csv', True)\n",
        "\n",
        "!wget 'https://storage.googleapis.com/inspirit-ai-data-bucket-1/Data/AI%20Scholars/Sessions%206%20-%2010%20(Projects)/Project%20-%20NLP%2BFinance/finance_test.csv'\n",
        "!wget 'https://storage.googleapis.com/inspirit-ai-data-bucket-1/Data/AI%20Scholars/Sessions%206%20-%2010%20(Projects)/Project%20-%20NLP%2BFinance/finance_train.csv'\n",
        "\n",
        "print (\"Train & Test Files are loaded\")"
      ],
      "execution_count": 1,
      "outputs": [
        {
          "output_type": "stream",
          "name": "stdout",
          "text": [
            "[nltk_data] Downloading package punkt to /root/nltk_data...\n",
            "[nltk_data]   Unzipping tokenizers/punkt.zip.\n",
            "[nltk_data] Downloading package wordnet to /root/nltk_data...\n",
            "[nltk_data]   Unzipping corpora/wordnet.zip.\n",
            "--2022-05-22 21:58:59--  https://storage.googleapis.com/inspirit-ai-data-bucket-1/Data/AI%20Scholars/Sessions%206%20-%2010%20(Projects)/Project%20-%20NLP%2BFinance/finance_test.csv\n",
            "Resolving storage.googleapis.com (storage.googleapis.com)... 64.233.187.128, 64.233.188.128, 108.177.125.128, ...\n",
            "Connecting to storage.googleapis.com (storage.googleapis.com)|64.233.187.128|:443... connected.\n",
            "HTTP request sent, awaiting response... 200 OK\n",
            "Length: 29264 (29K) [application/vnd.ms-excel]\n",
            "Saving to: ‘finance_test.csv’\n",
            "\n",
            "finance_test.csv    100%[===================>]  28.58K  --.-KB/s    in 0.001s  \n",
            "\n",
            "2022-05-22 21:58:59 (29.2 MB/s) - ‘finance_test.csv’ saved [29264/29264]\n",
            "\n",
            "--2022-05-22 21:58:59--  https://storage.googleapis.com/inspirit-ai-data-bucket-1/Data/AI%20Scholars/Sessions%206%20-%2010%20(Projects)/Project%20-%20NLP%2BFinance/finance_train.csv\n",
            "Resolving storage.googleapis.com (storage.googleapis.com)... 74.125.204.128, 64.233.187.128, 64.233.188.128, ...\n",
            "Connecting to storage.googleapis.com (storage.googleapis.com)|74.125.204.128|:443... connected.\n",
            "HTTP request sent, awaiting response... 200 OK\n",
            "Length: 258593 (253K) [application/vnd.ms-excel]\n",
            "Saving to: ‘finance_train.csv’\n",
            "\n",
            "finance_train.csv   100%[===================>] 252.53K  --.-KB/s    in 0.003s  \n",
            "\n",
            "2022-05-22 21:59:00 (72.5 MB/s) - ‘finance_train.csv’ saved [258593/258593]\n",
            "\n",
            "Train & Test Files are loaded\n"
          ]
        }
      ]
    },
    {
      "cell_type": "code",
      "metadata": {
        "id": "yg_P864EbhXJ",
        "colab": {
          "base_uri": "https://localhost:8080/",
          "height": 206
        },
        "outputId": "58283cad-fffd-4f37-ce2c-9ade37ba1d82"
      },
      "source": [
        "\n",
        "df_train = get_finance_train()\n",
        "df_train.head()\n"
      ],
      "execution_count": 2,
      "outputs": [
        {
          "output_type": "execute_result",
          "data": {
            "text/plain": [
              "                                            Sentence  Label\n",
              "0  Autotank Group is part of Aspo 's Systems Divi...      1\n",
              "1  The contract includes design , construction , ...      1\n",
              "2  Rapala said it estimates it will make savings ...      2\n",
              "3  The share capital of Alma Media Corporation (b...      1\n",
              "4  The financial impact is estimated to be some 1...      2"
            ],
            "text/html": [
              "\n",
              "  <div id=\"df-93fa2206-4a5c-4204-b049-53e610635a3e\">\n",
              "    <div class=\"colab-df-container\">\n",
              "      <div>\n",
              "<style scoped>\n",
              "    .dataframe tbody tr th:only-of-type {\n",
              "        vertical-align: middle;\n",
              "    }\n",
              "\n",
              "    .dataframe tbody tr th {\n",
              "        vertical-align: top;\n",
              "    }\n",
              "\n",
              "    .dataframe thead th {\n",
              "        text-align: right;\n",
              "    }\n",
              "</style>\n",
              "<table border=\"1\" class=\"dataframe\">\n",
              "  <thead>\n",
              "    <tr style=\"text-align: right;\">\n",
              "      <th></th>\n",
              "      <th>Sentence</th>\n",
              "      <th>Label</th>\n",
              "    </tr>\n",
              "  </thead>\n",
              "  <tbody>\n",
              "    <tr>\n",
              "      <th>0</th>\n",
              "      <td>Autotank Group is part of Aspo 's Systems Divi...</td>\n",
              "      <td>1</td>\n",
              "    </tr>\n",
              "    <tr>\n",
              "      <th>1</th>\n",
              "      <td>The contract includes design , construction , ...</td>\n",
              "      <td>1</td>\n",
              "    </tr>\n",
              "    <tr>\n",
              "      <th>2</th>\n",
              "      <td>Rapala said it estimates it will make savings ...</td>\n",
              "      <td>2</td>\n",
              "    </tr>\n",
              "    <tr>\n",
              "      <th>3</th>\n",
              "      <td>The share capital of Alma Media Corporation (b...</td>\n",
              "      <td>1</td>\n",
              "    </tr>\n",
              "    <tr>\n",
              "      <th>4</th>\n",
              "      <td>The financial impact is estimated to be some 1...</td>\n",
              "      <td>2</td>\n",
              "    </tr>\n",
              "  </tbody>\n",
              "</table>\n",
              "</div>\n",
              "      <button class=\"colab-df-convert\" onclick=\"convertToInteractive('df-93fa2206-4a5c-4204-b049-53e610635a3e')\"\n",
              "              title=\"Convert this dataframe to an interactive table.\"\n",
              "              style=\"display:none;\">\n",
              "        \n",
              "  <svg xmlns=\"http://www.w3.org/2000/svg\" height=\"24px\"viewBox=\"0 0 24 24\"\n",
              "       width=\"24px\">\n",
              "    <path d=\"M0 0h24v24H0V0z\" fill=\"none\"/>\n",
              "    <path d=\"M18.56 5.44l.94 2.06.94-2.06 2.06-.94-2.06-.94-.94-2.06-.94 2.06-2.06.94zm-11 1L8.5 8.5l.94-2.06 2.06-.94-2.06-.94L8.5 2.5l-.94 2.06-2.06.94zm10 10l.94 2.06.94-2.06 2.06-.94-2.06-.94-.94-2.06-.94 2.06-2.06.94z\"/><path d=\"M17.41 7.96l-1.37-1.37c-.4-.4-.92-.59-1.43-.59-.52 0-1.04.2-1.43.59L10.3 9.45l-7.72 7.72c-.78.78-.78 2.05 0 2.83L4 21.41c.39.39.9.59 1.41.59.51 0 1.02-.2 1.41-.59l7.78-7.78 2.81-2.81c.8-.78.8-2.07 0-2.86zM5.41 20L4 18.59l7.72-7.72 1.47 1.35L5.41 20z\"/>\n",
              "  </svg>\n",
              "      </button>\n",
              "      \n",
              "  <style>\n",
              "    .colab-df-container {\n",
              "      display:flex;\n",
              "      flex-wrap:wrap;\n",
              "      gap: 12px;\n",
              "    }\n",
              "\n",
              "    .colab-df-convert {\n",
              "      background-color: #E8F0FE;\n",
              "      border: none;\n",
              "      border-radius: 50%;\n",
              "      cursor: pointer;\n",
              "      display: none;\n",
              "      fill: #1967D2;\n",
              "      height: 32px;\n",
              "      padding: 0 0 0 0;\n",
              "      width: 32px;\n",
              "    }\n",
              "\n",
              "    .colab-df-convert:hover {\n",
              "      background-color: #E2EBFA;\n",
              "      box-shadow: 0px 1px 2px rgba(60, 64, 67, 0.3), 0px 1px 3px 1px rgba(60, 64, 67, 0.15);\n",
              "      fill: #174EA6;\n",
              "    }\n",
              "\n",
              "    [theme=dark] .colab-df-convert {\n",
              "      background-color: #3B4455;\n",
              "      fill: #D2E3FC;\n",
              "    }\n",
              "\n",
              "    [theme=dark] .colab-df-convert:hover {\n",
              "      background-color: #434B5C;\n",
              "      box-shadow: 0px 1px 3px 1px rgba(0, 0, 0, 0.15);\n",
              "      filter: drop-shadow(0px 1px 2px rgba(0, 0, 0, 0.3));\n",
              "      fill: #FFFFFF;\n",
              "    }\n",
              "  </style>\n",
              "\n",
              "      <script>\n",
              "        const buttonEl =\n",
              "          document.querySelector('#df-93fa2206-4a5c-4204-b049-53e610635a3e button.colab-df-convert');\n",
              "        buttonEl.style.display =\n",
              "          google.colab.kernel.accessAllowed ? 'block' : 'none';\n",
              "\n",
              "        async function convertToInteractive(key) {\n",
              "          const element = document.querySelector('#df-93fa2206-4a5c-4204-b049-53e610635a3e');\n",
              "          const dataTable =\n",
              "            await google.colab.kernel.invokeFunction('convertToInteractive',\n",
              "                                                     [key], {});\n",
              "          if (!dataTable) return;\n",
              "\n",
              "          const docLinkHtml = 'Like what you see? Visit the ' +\n",
              "            '<a target=\"_blank\" href=https://colab.research.google.com/notebooks/data_table.ipynb>data table notebook</a>'\n",
              "            + ' to learn more about interactive tables.';\n",
              "          element.innerHTML = '';\n",
              "          dataTable['output_type'] = 'display_data';\n",
              "          await google.colab.output.renderOutput(dataTable, element);\n",
              "          const docLink = document.createElement('div');\n",
              "          docLink.innerHTML = docLinkHtml;\n",
              "          element.appendChild(docLink);\n",
              "        }\n",
              "      </script>\n",
              "    </div>\n",
              "  </div>\n",
              "  "
            ]
          },
          "metadata": {},
          "execution_count": 2
        }
      ]
    },
    {
      "cell_type": "code",
      "metadata": {
        "id": "D_p44_H_cvJf",
        "colab": {
          "base_uri": "https://localhost:8080/"
        },
        "outputId": "4420091c-7420-4639-e365-cee4b18e8ebe"
      },
      "source": [
        "\n",
        "index = df_train.index\n",
        "num_of_rows = len(index)\n",
        "print(num_of_rows)\n"
      ],
      "execution_count": 3,
      "outputs": [
        {
          "output_type": "stream",
          "name": "stdout",
          "text": [
            "2037\n"
          ]
        }
      ]
    },
    {
      "cell_type": "code",
      "metadata": {
        "id": "tuIfl1s4e83o",
        "colab": {
          "base_uri": "https://localhost:8080/",
          "height": 206
        },
        "outputId": "22e34182-8d28-4ec1-9214-d256b2809fbc"
      },
      "source": [
        "\n",
        "df_test = get_finance_test()\n",
        "df_test.head()\n"
      ],
      "execution_count": 4,
      "outputs": [
        {
          "output_type": "execute_result",
          "data": {
            "text/plain": [
              "                                            Sentence  Label\n",
              "0  In the third quarter of 2010 , net sales incre...      2\n",
              "1  Foundries division reports its sales increased...      2\n",
              "2  Financing of the project will come mainly from...      1\n",
              "3  Sukhraj Dulai , of the 2900 block of Boni Sue ...      1\n",
              "4  Finland 's leading metals group Outokumpu said...      2"
            ],
            "text/html": [
              "\n",
              "  <div id=\"df-13308152-7bd3-4ece-8e47-db8f2a8e7041\">\n",
              "    <div class=\"colab-df-container\">\n",
              "      <div>\n",
              "<style scoped>\n",
              "    .dataframe tbody tr th:only-of-type {\n",
              "        vertical-align: middle;\n",
              "    }\n",
              "\n",
              "    .dataframe tbody tr th {\n",
              "        vertical-align: top;\n",
              "    }\n",
              "\n",
              "    .dataframe thead th {\n",
              "        text-align: right;\n",
              "    }\n",
              "</style>\n",
              "<table border=\"1\" class=\"dataframe\">\n",
              "  <thead>\n",
              "    <tr style=\"text-align: right;\">\n",
              "      <th></th>\n",
              "      <th>Sentence</th>\n",
              "      <th>Label</th>\n",
              "    </tr>\n",
              "  </thead>\n",
              "  <tbody>\n",
              "    <tr>\n",
              "      <th>0</th>\n",
              "      <td>In the third quarter of 2010 , net sales incre...</td>\n",
              "      <td>2</td>\n",
              "    </tr>\n",
              "    <tr>\n",
              "      <th>1</th>\n",
              "      <td>Foundries division reports its sales increased...</td>\n",
              "      <td>2</td>\n",
              "    </tr>\n",
              "    <tr>\n",
              "      <th>2</th>\n",
              "      <td>Financing of the project will come mainly from...</td>\n",
              "      <td>1</td>\n",
              "    </tr>\n",
              "    <tr>\n",
              "      <th>3</th>\n",
              "      <td>Sukhraj Dulai , of the 2900 block of Boni Sue ...</td>\n",
              "      <td>1</td>\n",
              "    </tr>\n",
              "    <tr>\n",
              "      <th>4</th>\n",
              "      <td>Finland 's leading metals group Outokumpu said...</td>\n",
              "      <td>2</td>\n",
              "    </tr>\n",
              "  </tbody>\n",
              "</table>\n",
              "</div>\n",
              "      <button class=\"colab-df-convert\" onclick=\"convertToInteractive('df-13308152-7bd3-4ece-8e47-db8f2a8e7041')\"\n",
              "              title=\"Convert this dataframe to an interactive table.\"\n",
              "              style=\"display:none;\">\n",
              "        \n",
              "  <svg xmlns=\"http://www.w3.org/2000/svg\" height=\"24px\"viewBox=\"0 0 24 24\"\n",
              "       width=\"24px\">\n",
              "    <path d=\"M0 0h24v24H0V0z\" fill=\"none\"/>\n",
              "    <path d=\"M18.56 5.44l.94 2.06.94-2.06 2.06-.94-2.06-.94-.94-2.06-.94 2.06-2.06.94zm-11 1L8.5 8.5l.94-2.06 2.06-.94-2.06-.94L8.5 2.5l-.94 2.06-2.06.94zm10 10l.94 2.06.94-2.06 2.06-.94-2.06-.94-.94-2.06-.94 2.06-2.06.94z\"/><path d=\"M17.41 7.96l-1.37-1.37c-.4-.4-.92-.59-1.43-.59-.52 0-1.04.2-1.43.59L10.3 9.45l-7.72 7.72c-.78.78-.78 2.05 0 2.83L4 21.41c.39.39.9.59 1.41.59.51 0 1.02-.2 1.41-.59l7.78-7.78 2.81-2.81c.8-.78.8-2.07 0-2.86zM5.41 20L4 18.59l7.72-7.72 1.47 1.35L5.41 20z\"/>\n",
              "  </svg>\n",
              "      </button>\n",
              "      \n",
              "  <style>\n",
              "    .colab-df-container {\n",
              "      display:flex;\n",
              "      flex-wrap:wrap;\n",
              "      gap: 12px;\n",
              "    }\n",
              "\n",
              "    .colab-df-convert {\n",
              "      background-color: #E8F0FE;\n",
              "      border: none;\n",
              "      border-radius: 50%;\n",
              "      cursor: pointer;\n",
              "      display: none;\n",
              "      fill: #1967D2;\n",
              "      height: 32px;\n",
              "      padding: 0 0 0 0;\n",
              "      width: 32px;\n",
              "    }\n",
              "\n",
              "    .colab-df-convert:hover {\n",
              "      background-color: #E2EBFA;\n",
              "      box-shadow: 0px 1px 2px rgba(60, 64, 67, 0.3), 0px 1px 3px 1px rgba(60, 64, 67, 0.15);\n",
              "      fill: #174EA6;\n",
              "    }\n",
              "\n",
              "    [theme=dark] .colab-df-convert {\n",
              "      background-color: #3B4455;\n",
              "      fill: #D2E3FC;\n",
              "    }\n",
              "\n",
              "    [theme=dark] .colab-df-convert:hover {\n",
              "      background-color: #434B5C;\n",
              "      box-shadow: 0px 1px 3px 1px rgba(0, 0, 0, 0.15);\n",
              "      filter: drop-shadow(0px 1px 2px rgba(0, 0, 0, 0.3));\n",
              "      fill: #FFFFFF;\n",
              "    }\n",
              "  </style>\n",
              "\n",
              "      <script>\n",
              "        const buttonEl =\n",
              "          document.querySelector('#df-13308152-7bd3-4ece-8e47-db8f2a8e7041 button.colab-df-convert');\n",
              "        buttonEl.style.display =\n",
              "          google.colab.kernel.accessAllowed ? 'block' : 'none';\n",
              "\n",
              "        async function convertToInteractive(key) {\n",
              "          const element = document.querySelector('#df-13308152-7bd3-4ece-8e47-db8f2a8e7041');\n",
              "          const dataTable =\n",
              "            await google.colab.kernel.invokeFunction('convertToInteractive',\n",
              "                                                     [key], {});\n",
              "          if (!dataTable) return;\n",
              "\n",
              "          const docLinkHtml = 'Like what you see? Visit the ' +\n",
              "            '<a target=\"_blank\" href=https://colab.research.google.com/notebooks/data_table.ipynb>data table notebook</a>'\n",
              "            + ' to learn more about interactive tables.';\n",
              "          element.innerHTML = '';\n",
              "          dataTable['output_type'] = 'display_data';\n",
              "          await google.colab.output.renderOutput(dataTable, element);\n",
              "          const docLink = document.createElement('div');\n",
              "          docLink.innerHTML = docLinkHtml;\n",
              "          element.appendChild(docLink);\n",
              "        }\n",
              "      </script>\n",
              "    </div>\n",
              "  </div>\n",
              "  "
            ]
          },
          "metadata": {},
          "execution_count": 4
        }
      ]
    },
    {
      "cell_type": "code",
      "metadata": {
        "id": "OiyIsd_WfS4F",
        "colab": {
          "base_uri": "https://localhost:8080/"
        },
        "outputId": "9f8d8d2f-c2fb-42d7-94cc-0e117d8c3319"
      },
      "source": [
        "\n",
        "index = df_test.index\n",
        "print(len(index))\n"
      ],
      "execution_count": 5,
      "outputs": [
        {
          "output_type": "stream",
          "name": "stdout",
          "text": [
            "227\n"
          ]
        }
      ]
    },
    {
      "cell_type": "code",
      "metadata": {
        "id": "iskP8ysdTuM0",
        "colab": {
          "base_uri": "https://localhost:8080/"
        },
        "outputId": "e52ce07e-4d9d-4f51-d593-b0edb2eeddbc"
      },
      "source": [
        "print(PUNCTUATION)"
      ],
      "execution_count": 6,
      "outputs": [
        {
          "output_type": "stream",
          "name": "stdout",
          "text": [
            "!#$%&()*,-./:;<=>?@^_`{|}~\n"
          ]
        }
      ]
    },
    {
      "cell_type": "code",
      "metadata": {
        "id": "cuaBUfaqTuPK"
      },
      "source": [
        "sample_sentence = \".I went to the store and there was no iguanas,!\" "
      ],
      "execution_count": 7,
      "outputs": []
    },
    {
      "cell_type": "code",
      "metadata": {
        "id": "i5Wd3miEXWi8"
      },
      "source": [
        "PUNCTUATION_RE = re.compile(\"[%s]\" % PUNCTUATION) "
      ],
      "execution_count": 8,
      "outputs": []
    },
    {
      "cell_type": "code",
      "metadata": {
        "id": "8C1ziGegEBgz",
        "colab": {
          "base_uri": "https://localhost:8080/"
        },
        "outputId": "9827fe87-99ae-4d85-8e16-3263bf869ef1"
      },
      "source": [
        "\n",
        "filtered_sample_sentence = PUNCTUATION_RE.sub(\"\", sample_sentence)\n",
        "print(filtered_sample_sentence)\n"
      ],
      "execution_count": 9,
      "outputs": [
        {
          "output_type": "stream",
          "name": "stdout",
          "text": [
            "I went to the store and there was no iguanas\n"
          ]
        }
      ]
    },
    {
      "cell_type": "code",
      "metadata": {
        "id": "cE27jCkrHsYZ",
        "colab": {
          "base_uri": "https://localhost:8080/",
          "height": 35
        },
        "outputId": "0ff222eb-96e1-408c-9f00-6e64b67d5d70"
      },
      "source": [
        "\n",
        "clean_text(\".DEEZ,Nuts!!\")\n"
      ],
      "execution_count": 10,
      "outputs": [
        {
          "output_type": "execute_result",
          "data": {
            "text/plain": [
              "'deez nuts'"
            ],
            "application/vnd.google.colaboratory.intrinsic+json": {
              "type": "string"
            }
          },
          "metadata": {},
          "execution_count": 10
        }
      ]
    },
    {
      "cell_type": "code",
      "metadata": {
        "id": "2jn7R-A0h3Kq",
        "colab": {
          "base_uri": "https://localhost:8080/",
          "height": 35
        },
        "outputId": "33044f40-833c-47e5-9016-f0a577062849"
      },
      "source": [
        "\n",
        "train_example = df_train.iloc[99][\"Sentence\"]\n",
        "clean_text(train_example)\n"
      ],
      "execution_count": 11,
      "outputs": [
        {
          "output_type": "execute_result",
          "data": {
            "text/plain": [
              "'data processing unit collects data calculates rvr values provides data users via various interfaces'"
            ],
            "application/vnd.google.colaboratory.intrinsic+json": {
              "type": "string"
            }
          },
          "metadata": {},
          "execution_count": 11
        }
      ]
    },
    {
      "cell_type": "code",
      "metadata": {
        "id": "aPw0OiQcH0is",
        "cellView": "form"
      },
      "source": [
        "#@title Run this cell to clean all the sentences in Finance Train and Finance Test.\n",
        "\n",
        "df_train['Sentence'] = df_train['Sentence'].apply(clean_text)\n",
        "df_test['Sentence'] = df_test['Sentence'].apply(clean_text)"
      ],
      "execution_count": 12,
      "outputs": []
    },
    {
      "cell_type": "code",
      "metadata": {
        "id": "rgxqptH0mF_b"
      },
      "source": [
        "MAX_SEQUENCE_LENGTH = 256"
      ],
      "execution_count": 13,
      "outputs": []
    },
    {
      "cell_type": "code",
      "metadata": {
        "id": "hn1xKSTHINCe"
      },
      "source": [
        "MAX_NB_WORDS = 1000"
      ],
      "execution_count": 14,
      "outputs": []
    },
    {
      "cell_type": "code",
      "metadata": {
        "id": "NonbGj5Foh5v",
        "colab": {
          "base_uri": "https://localhost:8080/"
        },
        "outputId": "75354285-731b-4cf7-984b-d8f4c607f09b"
      },
      "source": [
        "\n",
        "X_train = pad_sequences_train(df_train, df_test)\n",
        "print(X_train)\n",
        "print(X_train[0])\n"
      ],
      "execution_count": 15,
      "outputs": [
        {
          "output_type": "stream",
          "name": "stdout",
          "text": [
            "[[  0   0   0 ... 348  91 161]\n",
            " [  0   0   0 ... 285  93 485]\n",
            " [  0   0   0 ...  39 185 657]\n",
            " ...\n",
            " [  0   0   0 ...  32  11  16]\n",
            " [  0   0   0 ...  11  94  14]\n",
            " [  0   0   0 ... 911  33 218]]\n",
            "[  0   0   0   0   0   0   0   0   0   0   0   0   0   0   0   0   0   0\n",
            "   0   0   0   0   0   0   0   0   0   0   0   0   0   0   0   0   0   0\n",
            "   0   0   0   0   0   0   0   0   0   0   0   0   0   0   0   0   0   0\n",
            "   0   0   0   0   0   0   0   0   0   0   0   0   0   0   0   0   0   0\n",
            "   0   0   0   0   0   0   0   0   0   0   0   0   0   0   0   0   0   0\n",
            "   0   0   0   0   0   0   0   0   0   0   0   0   0   0   0   0   0   0\n",
            "   0   0   0   0   0   0   0   0   0   0   0   0   0   0   0   0   0   0\n",
            "   0   0   0   0   0   0   0   0   0   0   0   0   0   0   0   0   0   0\n",
            "   0   0   0   0   0   0   0   0   0   0   0   0   0   0   0   0   0   0\n",
            "   0   0   0   0   0   0   0   0   0   0   0   0   0   0   0   0   0   0\n",
            "   0   0   0   0   0   0   0   0   0   0   0   0   0   0   0   0   0   0\n",
            "   0   0   0   0   0   0   0   0   0   0   0   0   0   0   0   0   0   0\n",
            "   0   0   0   0   0   0   0   0   0   0   0   0   0   0   0   0   0   0\n",
            "   0   0   0   0   0   0   0   0   0   0   0   0   0   0   0   0   0  18\n",
            " 128 348  91 161]\n"
          ]
        }
      ]
    },
    {
      "cell_type": "code",
      "metadata": {
        "id": "lkq6-PoLpIt4",
        "colab": {
          "base_uri": "https://localhost:8080/"
        },
        "outputId": "c7bd4a1d-9d0b-45ce-a0cc-32c2a2820b9c"
      },
      "source": [
        "\n",
        "X_test = pad_sequences_test(df_train, df_test)\n",
        "print(X_test)\n"
      ],
      "execution_count": 16,
      "outputs": [
        {
          "output_type": "stream",
          "name": "stdout",
          "text": [
            "[[  0   0   0 ...   4   1   2]\n",
            " [  0   0   0 ...  32  11  31]\n",
            " [  0   0   0 ... 787 536 270]\n",
            " ...\n",
            " [  0   0   0 ...  25 957 364]\n",
            " [  0   0   0 ... 538 933  27]\n",
            " [  0   0   0 ...   2   1   2]]\n"
          ]
        }
      ]
    },
    {
      "cell_type": "code",
      "metadata": {
        "id": "9lsJuFx0qXZR",
        "colab": {
          "base_uri": "https://localhost:8080/"
        },
        "outputId": "00ca96be-cb38-4e6e-b2eb-d572257518fd"
      },
      "source": [
        "\n",
        "y_train = pd.get_dummies(df_train[\"Label\"]).values\n",
        "print(y_train.shape)\n",
        "\n"
      ],
      "execution_count": 17,
      "outputs": [
        {
          "output_type": "stream",
          "name": "stdout",
          "text": [
            "(2037, 3)\n"
          ]
        }
      ]
    },
    {
      "cell_type": "code",
      "metadata": {
        "id": "9paIXlwGraDR",
        "colab": {
          "base_uri": "https://localhost:8080/"
        },
        "outputId": "06d23035-216c-4baa-8cf2-d25954ab5e8e"
      },
      "source": [
        "\n",
        "y_test = pd.get_dummies(df_test[\"Label\"]).values\n",
        "print(y_test.shape)\n"
      ],
      "execution_count": 18,
      "outputs": [
        {
          "output_type": "stream",
          "name": "stdout",
          "text": [
            "(227, 3)\n"
          ]
        }
      ]
    },
    {
      "cell_type": "code",
      "metadata": {
        "id": "dz3WFf7KmdHp"
      },
      "source": [
        "n_labels = 3\n",
        "label_map = {0 : \"negative\", \n",
        "             1 : \"neutral\",\n",
        "             2 : \"positive\"}"
      ],
      "execution_count": 19,
      "outputs": []
    },
    {
      "cell_type": "code",
      "metadata": {
        "id": "6gICUM-RELon",
        "colab": {
          "base_uri": "https://localhost:8080/"
        },
        "outputId": "9f157873-d07d-416c-a9f8-e40439ada349"
      },
      "source": [
        "\n",
        "\n",
        "model = Sequential()\n",
        "model.add(Embedding(MAX_NB_WORDS+1, EMBEDDING_DIM, mask_zero=True, input_length=MAX_SEQUENCE_LENGTH))\n",
        "model.add(SpatialDropout1D(0.2))\n",
        "model.add(LSTM(100, dropout=0.2, recurrent_dropout=0.2))\n",
        "model.add(Dense(n_labels, activation='softmax'))\n",
        "model.compile(loss='categorical_crossentropy', optimizer='adam', metrics=['accuracy'])\n",
        "print(model.summary())"
      ],
      "execution_count": 20,
      "outputs": [
        {
          "output_type": "stream",
          "name": "stdout",
          "text": [
            "Model: \"sequential\"\n",
            "_________________________________________________________________\n",
            " Layer (type)                Output Shape              Param #   \n",
            "=================================================================\n",
            " embedding (Embedding)       (None, 256, 300)          300300    \n",
            "                                                                 \n",
            " spatial_dropout1d (SpatialD  (None, 256, 300)         0         \n",
            " ropout1D)                                                       \n",
            "                                                                 \n",
            " lstm (LSTM)                 (None, 100)               160400    \n",
            "                                                                 \n",
            " dense (Dense)               (None, 3)                 303       \n",
            "                                                                 \n",
            "=================================================================\n",
            "Total params: 461,003\n",
            "Trainable params: 461,003\n",
            "Non-trainable params: 0\n",
            "_________________________________________________________________\n",
            "None\n"
          ]
        }
      ]
    },
    {
      "cell_type": "code",
      "metadata": {
        "id": "3UKebGfM5pG9"
      },
      "source": [
        "epochs = 5 \n",
        "batch_size = 64 "
      ],
      "execution_count": 21,
      "outputs": []
    },
    {
      "cell_type": "code",
      "metadata": {
        "id": "aWnK-_HfLexU",
        "colab": {
          "base_uri": "https://localhost:8080/"
        },
        "outputId": "a57d5553-347f-457c-9f15-6985e7b58256"
      },
      "source": [
        "history = model.fit(X_train, \n",
        "                    y_train, \n",
        "                    epochs=epochs, \n",
        "                    batch_size=batch_size,\n",
        "                    validation_split=0.1,\n",
        "                    callbacks=[EarlyStopping(monitor='val_loss', patience=3, min_delta=0.0001)])"
      ],
      "execution_count": 22,
      "outputs": [
        {
          "output_type": "stream",
          "name": "stdout",
          "text": [
            "Epoch 1/5\n",
            "29/29 [==============================] - 47s 1s/step - loss: 0.9295 - accuracy: 0.6607 - val_loss: 0.6895 - val_accuracy: 0.7549\n",
            "Epoch 2/5\n",
            "29/29 [==============================] - 34s 1s/step - loss: 0.5613 - accuracy: 0.7747 - val_loss: 0.5713 - val_accuracy: 0.8137\n",
            "Epoch 3/5\n",
            "29/29 [==============================] - 34s 1s/step - loss: 0.3976 - accuracy: 0.8554 - val_loss: 0.5019 - val_accuracy: 0.8284\n",
            "Epoch 4/5\n",
            "29/29 [==============================] - 33s 1s/step - loss: 0.2588 - accuracy: 0.9154 - val_loss: 0.5036 - val_accuracy: 0.8186\n",
            "Epoch 5/5\n",
            "29/29 [==============================] - 35s 1s/step - loss: 0.1818 - accuracy: 0.9471 - val_loss: 0.5321 - val_accuracy: 0.8137\n"
          ]
        }
      ]
    },
    {
      "cell_type": "code",
      "metadata": {
        "id": "xkHiN4nw7QAl",
        "colab": {
          "base_uri": "https://localhost:8080/"
        },
        "outputId": "1484af10-d20b-48bc-9767-3d71df45e89c"
      },
      "source": [
        "test_loss, test_accuracy = model.evaluate(X_test, y_test)\n",
        "print(test_loss, test_accuracy) "
      ],
      "execution_count": 23,
      "outputs": [
        {
          "output_type": "stream",
          "name": "stdout",
          "text": [
            "8/8 [==============================] - 1s 108ms/step - loss: 0.5247 - accuracy: 0.8370\n",
            "0.5247048735618591 0.8370044231414795\n"
          ]
        }
      ]
    },
    {
      "cell_type": "code",
      "metadata": {
        "id": "6BuV6SZo9xBT"
      },
      "source": [
        "training_loss = history.history[\"loss\"];"
      ],
      "execution_count": 24,
      "outputs": []
    },
    {
      "cell_type": "code",
      "metadata": {
        "id": "67Dnl8Dq-ATL"
      },
      "source": [
        "validation_loss = history.history[\"val_loss\"] "
      ],
      "execution_count": 25,
      "outputs": []
    },
    {
      "cell_type": "code",
      "metadata": {
        "id": "E4Ol1Ixm_hUO",
        "colab": {
          "base_uri": "https://localhost:8080/",
          "height": 404
        },
        "outputId": "7fea562d-8c45-4d78-b0d9-048eaa44257c"
      },
      "source": [
        "fig = plt.figure(figsize=(12,6))\n",
        "plt.title('Loss over Time')\n",
        "plt.xlabel('Epochs')\n",
        "plt.ylabel('Loss')\n",
        "\n",
        "\n",
        "plt.plot(training_loss, label=\"train\")\n",
        "plt.plot(validation_loss, label=\"validation\")\n",
        "\n",
        "\n",
        "plt.legend()\n",
        "plt.show()"
      ],
      "execution_count": 26,
      "outputs": [
        {
          "output_type": "display_data",
          "data": {
            "text/plain": [
              "<Figure size 864x432 with 1 Axes>"
            ],
            "image/png": "[encoded data removed]"
          },
          "metadata": {
            "needs_background": "light"
          }
        }
      ]
    },
    {
      "cell_type": "code",
      "metadata": {
        "id": "mINhuMBCBf6D"
      },
      "source": [
        "training_accuracy = history.history[\"accuracy\"] \n",
        "validation_accuracy = history.history[\"val_accuracy\"] "
      ],
      "execution_count": 27,
      "outputs": []
    },
    {
      "cell_type": "code",
      "metadata": {
        "id": "IElqKfZFMaVa",
        "colab": {
          "base_uri": "https://localhost:8080/",
          "height": 404
        },
        "outputId": "8fb9a0bd-17e7-4990-8ba0-a8ba7603e4d8"
      },
      "source": [
        "fig = plt.figure(figsize=(12,6))\n",
        "plt.title('Accuracy over Time')\n",
        "plt.xlabel('Epochs')\n",
        "plt.ylabel('Accuracy')\n",
        "\n",
        "\n",
        "plt.plot(training_accuracy, label=\"train\")\n",
        "plt.plot(validation_accuracy, label=\"validation\")\n",
        "\n",
        "\n",
        "plt.legend()\n",
        "plt.show()"
      ],
      "execution_count": 28,
      "outputs": [
        {
          "output_type": "display_data",
          "data": {
            "text/plain": [
              "<Figure size 864x432 with 1 Axes>"
            ],
            "image/png": "[encoded data removed]"
          },
          "metadata": {
            "needs_background": "light"
          }
        }
      ]
    },
    {
      "cell_type": "code",
      "metadata": {
        "id": "l9FvD7gFSD96",
        "colab": {
          "base_uri": "https://localhost:8080/"
        },
        "outputId": "732e6e11-a504-45b7-d23f-7ff7c44d77a8"
      },
      "source": [
        "model, history, test_acc = run_model(\n",
        "    X_train=X_train, \n",
        "    y_train=y_train, \n",
        "    X_test=X_test, \n",
        "    y_test=y_test, \n",
        "    epochs=10, \n",
        "    max_sequence_length=256, \n",
        "    max_nb_words=1000, \n",
        "    embedding_dim=300 \n",
        ")"
      ],
      "execution_count": 29,
      "outputs": [
        {
          "output_type": "stream",
          "name": "stdout",
          "text": [
            "Model: \"sequential_1\"\n",
            "_________________________________________________________________\n",
            " Layer (type)                Output Shape              Param #   \n",
            "=================================================================\n",
            " embedding_1 (Embedding)     (None, 256, 300)          300300    \n",
            "                                                                 \n",
            " spatial_dropout1d_1 (Spatia  (None, 256, 300)         0         \n",
            " lDropout1D)                                                     \n",
            "                                                                 \n",
            " lstm_1 (LSTM)               (None, 100)               160400    \n",
            "                                                                 \n",
            " dense_1 (Dense)             (None, 3)                 303       \n",
            "                                                                 \n",
            "=================================================================\n",
            "Total params: 461,003\n",
            "Trainable params: 461,003\n",
            "Non-trainable params: 0\n",
            "_________________________________________________________________\n",
            "None\n",
            "Epoch 1/10\n",
            "29/29 [==============================] - 37s 1s/step - loss: 0.9244 - accuracy: 0.6525 - val_loss: 0.6729 - val_accuracy: 0.7549\n",
            "Epoch 2/10\n",
            "29/29 [==============================] - 33s 1s/step - loss: 0.5678 - accuracy: 0.7627 - val_loss: 0.5781 - val_accuracy: 0.7990\n",
            "Epoch 3/10\n",
            "29/29 [==============================] - 33s 1s/step - loss: 0.3939 - accuracy: 0.8472 - val_loss: 0.5142 - val_accuracy: 0.8186\n",
            "Epoch 4/10\n",
            "29/29 [==============================] - 33s 1s/step - loss: 0.2627 - accuracy: 0.9062 - val_loss: 0.4419 - val_accuracy: 0.8382\n",
            "Epoch 5/10\n",
            "29/29 [==============================] - 33s 1s/step - loss: 0.1731 - accuracy: 0.9416 - val_loss: 0.5217 - val_accuracy: 0.8186\n",
            "Epoch 6/10\n",
            "29/29 [==============================] - 33s 1s/step - loss: 0.1227 - accuracy: 0.9569 - val_loss: 0.5750 - val_accuracy: 0.8186\n",
            "Epoch 7/10\n",
            "29/29 [==============================] - 34s 1s/step - loss: 0.0890 - accuracy: 0.9744 - val_loss: 0.6458 - val_accuracy: 0.7990\n",
            "8/8 [==============================] - 1s 106ms/step - loss: 0.6536 - accuracy: 0.8326\n"
          ]
        }
      ]
    }
  ]
}